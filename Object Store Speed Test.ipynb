{
 "cells": [
  {
   "cell_type": "code",
   "execution_count": 10,
   "metadata": {},
   "outputs": [],
   "source": [
    "import ray\n",
    "import numpy as np\n",
    "import timeit\n",
    "import skvideo.io"
   ]
  },
  {
   "cell_type": "code",
   "execution_count": 2,
   "metadata": {},
   "outputs": [
    {
     "name": "stdout",
     "output_type": "stream",
     "text": [
      "Waiting for redis server at 127.0.0.1:65067 to respond...\n",
      "Waiting for redis server at 127.0.0.1:25681 to respond...\n",
      "Starting local scheduler with the following resources: {'CPU': 12, 'GPU': 1}.\n",
      "\n",
      "======================================================================\n",
      "View the web UI at http://localhost:8889/notebooks/ray_ui65277.ipynb?token=e7465526406d8bdd3938d338d53fb3918dd05273ae24d591\n",
      "======================================================================\n",
      "\n"
     ]
    },
    {
     "data": {
      "text/plain": [
       "{'local_scheduler_socket_names': ['/tmp/scheduler40789195'],\n",
       " 'node_ip_address': '127.0.0.1',\n",
       " 'object_store_addresses': [ObjectStoreAddress(name='/tmp/plasma_store96077045', manager_name='/tmp/plasma_manager64660418', manager_port=62877)],\n",
       " 'redis_address': '127.0.0.1:65067',\n",
       " 'webui_url': 'http://localhost:8889/notebooks/ray_ui65277.ipynb?token=e7465526406d8bdd3938d338d53fb3918dd05273ae24d591'}"
      ]
     },
     "execution_count": 2,
     "metadata": {},
     "output_type": "execute_result"
    }
   ],
   "source": [
    "ray.init()"
   ]
  },
  {
   "cell_type": "code",
   "execution_count": 3,
   "metadata": {},
   "outputs": [],
   "source": [
    "def put_random_frame(shape=(1280, 720, 3)):\n",
    "    ray.put(np.random.random(shape))"
   ]
  },
  {
   "cell_type": "code",
   "execution_count": 4,
   "metadata": {},
   "outputs": [],
   "source": [
    "avg_put_time = timeit.timeit(put_random_frame, number=100)/100"
   ]
  },
  {
   "cell_type": "code",
   "execution_count": 5,
   "metadata": {},
   "outputs": [
    {
     "name": "stdout",
     "output_type": "stream",
     "text": [
      "Avg put time = 0.032719127359999906\n",
      "Avg fps put into object store = 30.56316230556104\n"
     ]
    }
   ],
   "source": [
    "print(\"Avg put time = {}\".format(avg_put_time))\n",
    "put_fps = 1/avg_put_time\n",
    "print(\"Avg fps put into object store = {}\".format(put_fps))"
   ]
  },
  {
   "cell_type": "code",
   "execution_count": 6,
   "metadata": {},
   "outputs": [],
   "source": [
    "def put_and_get_random_frame(shape=(1280, 720, 3)):\n",
    "    obj_id = ray.put(np.random.random(shape))\n",
    "    ray.get(obj_id)"
   ]
  },
  {
   "cell_type": "code",
   "execution_count": 7,
   "metadata": {},
   "outputs": [],
   "source": [
    "avg_put_and_get_time = timeit.timeit(put_and_get_random_frame, number=100)/100"
   ]
  },
  {
   "cell_type": "code",
   "execution_count": 8,
   "metadata": {},
   "outputs": [
    {
     "name": "stdout",
     "output_type": "stream",
     "text": [
      "Avg put and get time = 0.03233311667999999\n",
      "Avg fps put and get from object store = 30.928042288560484\n"
     ]
    }
   ],
   "source": [
    "print(\"Avg put and get time = {}\".format(avg_put_and_get_time))\n",
    "put_and_get_fps = 1/avg_put_and_get_time\n",
    "print(\"Avg fps put and get from object store = {}\".format(put_and_get_fps))"
   ]
  },
  {
   "cell_type": "code",
   "execution_count": 15,
   "metadata": {},
   "outputs": [],
   "source": [
    "avg_put_time = timeit.timeit(setup=\"from __main__ import ray, skvideo; decoder = skvideo.io.vreader('720p.mov'); frame=next(decoder)\",\n",
    "                           stmt=\"ray.put(frame)\", number=100)/100"
   ]
  },
  {
   "cell_type": "code",
   "execution_count": 16,
   "metadata": {},
   "outputs": [
    {
     "name": "stdout",
     "output_type": "stream",
     "text": [
      "Avg put time = 0.0012046944999997322\n",
      "Avg fps put into object store = 830.0859678534453\n"
     ]
    }
   ],
   "source": [
    "print(\"Avg put time = {}\".format(avg_put_time))\n",
    "put_fps = 1/avg_put_time\n",
    "print(\"Avg fps put into object store = {}\".format(put_fps))"
   ]
  },
  {
   "cell_type": "code",
   "execution_count": null,
   "metadata": {},
   "outputs": [],
   "source": []
  }
 ],
 "metadata": {
  "kernelspec": {
   "display_name": "ray-env",
   "language": "python",
   "name": "ray-env"
  },
  "language_info": {
   "codemirror_mode": {
    "name": "ipython",
    "version": 3
   },
   "file_extension": ".py",
   "mimetype": "text/x-python",
   "name": "python",
   "nbconvert_exporter": "python",
   "pygments_lexer": "ipython3",
   "version": "3.6.3"
  }
 },
 "nbformat": 4,
 "nbformat_minor": 2
}
